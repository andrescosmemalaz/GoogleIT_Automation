{
 "cells": [
  {
   "cell_type": "markdown",
   "metadata": {},
   "source": [
    "Final Project - Word Cloud\n",
    "For this project, you'll create a \"word cloud\" from a text by writing a script. This script needs to process the text, remove punctuation, ignore case and words that do not contain all alphabets, count the frequencies, and ignore uninteresting or irrelevant words. A dictionary is the output of the calculate_frequencies function. The wordcloud module will then generate the image from your dictionary.\n",
    "\n",
    "For the input text of your script, you will need to provide a file that contains text only. For the text itself, you can copy and paste the contents of a website you like. Or you can use a site like Project Gutenberg to find books that are available online. You could see what word clouds you can get from famous books, like a Shakespeare play or a novel by Jane Austen. Save this as a .txt file somewhere on your computer.\n",
    "\n",
    "Now you will need to upload your input file here so that your script will be able to process it. To do the upload, you will need an uploader widget. Run the following cell to perform all the installs and imports for your word cloud script and uploader widget. It may take a minute for all of this to run and there will be a lot of output messages. But, be patient. Once you get the following final line of output, the code is done executing. Then you can continue on with the rest of the instructions for this notebook.\n"
   ]
  },
  {
   "cell_type": "code",
   "execution_count": null,
   "metadata": {},
   "outputs": [],
   "source": [
    "# Here are all the installs and imports you will need for your word cloud script and uploader widget\n",
    "\n",
    "# !pip install wordcloud\n",
    "# !pip install fileupload\n",
    "# !pip install ipywidgets\n",
    "# !jupyter nbextension install --py --user fileupload\n",
    "# !jupyter nbextension enable --py fileupload\n",
    "\n",
    "# import wordcloud\n",
    "# import numpy as np\n",
    "# from matplotlib import pyplot as plt\n",
    "# from IPython.display import display\n",
    "# import fileupload\n",
    "# import io\n",
    "# import sys"
   ]
  },
  {
   "cell_type": "markdown",
   "metadata": {},
   "source": [
    "Whew! That was a lot. All of the installs and imports for your word cloud script and uploader widget have been completed.\n",
    "\n",
    "IMPORTANT! If this was your first time running the above cell containing the installs and imports, you will need save this notebook now. Then under the File menu above, select Close and Halt. When the notebook has completely shut down, reopen it. This is the only way the necessary changes will take affect.\n",
    "\n",
    "To upload your text file, run the following cell that contains all the code for a custom uploader widget. Once you run this cell, a \"Browse\" button should appear below it. Click this button and navigate the window to locate your saved text file."
   ]
  },
  {
   "cell_type": "code",
   "execution_count": null,
   "metadata": {},
   "outputs": [],
   "source": [
    "# # This is the uploader widget\n",
    "\n",
    "# def _upload():\n",
    "\n",
    "#     _upload_widget = fileupload.FileUploadWidget()\n",
    "\n",
    "#     def _cb(change):\n",
    "#         global file_contents\n",
    "#         decoded = io.StringIO(change['owner'].data.decode('utf-8'))\n",
    "#         filename = change['owner'].filename\n",
    "#         print('Uploaded `{}` ({:.2f} kB)'.format(\n",
    "#             filename, len(decoded.read()) / 2 **10))\n",
    "#         file_contents = decoded.getvalue()\n",
    "\n",
    "#     _upload_widget.observe(_cb, names='data')\n",
    "#     display(_upload_widget)\n",
    "\n",
    "# _upload()\n",
    "\n",
    "# =============== Alternate ===============\n",
    "\n",
    "# I'm unable to upload file for some reason\n",
    "# To create file manually, see https://github.com/elmoallistair/google-it-automation/issues/4\n",
    "archivo = ''\n",
    "file = open(archivo,'r')\n",
    "file_contents = file.read()"
   ]
  },
  {
   "cell_type": "markdown",
   "metadata": {},
   "source": [
    "The uploader widget saved the contents of your uploaded file into a string object named file_contents that your word cloud script can process. This was a lot of preliminary work, but you are now ready to begin your script.\n",
    "\n",
    "Write a function in the cell below that iterates through the words in file_contents, removes punctuation, and counts the frequency of each word. Oh, and be sure to make it ignore word case, words that do not contain all alphabets and boring words like \"and\" or \"the\". Then use it in the generate_from_frequencies function to generate your very own word cloud!\n",
    "\n",
    "Hint: Try storing the results of your iteration in a dictionary before passing them into wordcloud via the generate_from_frequencies function."
   ]
  },
  {
   "cell_type": "code",
   "execution_count": null,
   "metadata": {},
   "outputs": [],
   "source": [
    "def calculate_frequencies(file_contents):\n",
    "    # Here is a list of punctuations and uninteresting words you can use to process your text\n",
    "    punctuations = '''!()-[]{};:'\"\\,<>./?@#$%^&*_~'''\n",
    "    uninteresting_words = [\"the\", \"a\", \"to\", \"if\", \"is\", \"it\", \"of\", \"and\", \"or\", \"an\", \"as\", \"i\", \"me\", \"my\", \\\n",
    "    \"we\", \"our\", \"ours\", \"you\", \"your\", \"yours\", \"he\", \"she\", \"him\", \"his\", \"her\", \"hers\", \"its\", \"they\", \"them\", \\\n",
    "    \"their\", \"what\", \"which\", \"who\", \"whom\", \"this\", \"that\", \"am\", \"are\", \"was\", \"were\", \"be\", \"been\", \"being\", \\\n",
    "    \"have\", \"has\", \"had\", \"do\", \"does\", \"did\", \"but\", \"at\", \"by\", \"with\", \"from\", \"here\", \"when\", \"where\", \"how\", \\\n",
    "    \"all\", \"any\", \"both\", \"each\", \"few\", \"more\", \"some\", \"such\", \"no\", \"nor\", \"too\", \"very\", \"can\", \"will\", \"just\"]\n",
    "    \n",
    "    new_file_contents = \"\".join((char if char.isalpha() else \" \") for char in file_contents).lower().split()\n",
    "    filter  = [word for word in new_file_contents if word not in list(punctuations) + uninteresting_words]\n",
    "    frequencies = {word: file_contents.count(word) for word in filter}\n",
    "    \n",
    "    #wordcloud\n",
    "    cloud = wordcloud.WordCloud()\n",
    "    cloud.generate_from_frequencies(frequencies)\n",
    "    return cloud.to_array()"
   ]
  },
  {
   "cell_type": "markdown",
   "metadata": {},
   "source": [
    "If you have done everything correctly, your word cloud image should appear after running the cell below. Fingers crossed!"
   ]
  },
  {
   "cell_type": "code",
   "execution_count": null,
   "metadata": {},
   "outputs": [],
   "source": [
    "# Display your wordcloud image\n",
    "\n",
    "myimage = calculate_frequencies(file_contents)\n",
    "plt.imshow(myimage, interpolation = 'nearest')\n",
    "plt.axis('off')\n",
    "plt.show()"
   ]
  },
  {
   "cell_type": "markdown",
   "metadata": {},
   "source": [
    "If your word cloud image did not appear, go back and rework your calculate_frequencies function until you get the desired output. Definitely check that you passed your frequecy count dictionary into the generate_from_frequencies function of wordcloud. Once you have correctly displayed your word cloud image, you are all done with this project. Nice work!"
   ]
  }
 ],
 "metadata": {
  "language_info": {
   "name": "python"
  },
  "orig_nbformat": 4
 },
 "nbformat": 4,
 "nbformat_minor": 2
}
