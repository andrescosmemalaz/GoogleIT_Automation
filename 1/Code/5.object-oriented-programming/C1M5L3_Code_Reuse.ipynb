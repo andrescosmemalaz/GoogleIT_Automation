{
 "cells": [
  {
   "cell_type": "code",
   "execution_count": null,
   "metadata": {},
   "outputs": [
    {
     "ename": "",
     "evalue": "",
     "output_type": "error",
     "traceback": [
      "\u001b[1;31mRunning cells with 'Python 3.7.1 64-bit' requires ipykernel package.\n",
      "Run the following command to install 'ipykernel' into the Python environment. \n",
      "Command: 'C:/Users/andre/AppData/Local/Programs/Python/Python37/python.exe -m pip install ipykernel -U --user --force-reinstall'"
     ]
    }
   ],
   "source": [
    "# ##Code Reuse\n",
    "# Let’s put what we learned about code reuse all together.\n",
    "\n",
    "# First, let’s look back at inheritance. Run the following cell that defines a generic Animal class."
   ]
  },
  {
   "cell_type": "code",
   "execution_count": null,
   "metadata": {},
   "outputs": [],
   "source": [
    "class Animal:\n",
    "    name = \"\"\n",
    "    category = \"\"\n",
    "    \n",
    "    def __init__(self, name):\n",
    "        self.name = name\n",
    "    \n",
    "    def set_category(self, category):\n",
    "        self.category = category"
   ]
  },
  {
   "cell_type": "code",
   "execution_count": null,
   "metadata": {},
   "outputs": [],
   "source": [
    "# What we have is not enough to do much -- yet. That’s where you come in.\n",
    "\n",
    "# In the next cell, define a Turtle class that inherits from the Animal class. \n",
    "# Then go ahead and set its category. For instance, a turtle is generally considered a reptile. \n",
    "# Although modern cladistics call this categorization into question, for purposes of this exercise we will say turtles are reptiles!"
   ]
  },
  {
   "cell_type": "code",
   "execution_count": null,
   "metadata": {},
   "outputs": [],
   "source": [
    "class Turtle(Animal):\n",
    "    category = \"reptile\""
   ]
  },
  {
   "cell_type": "code",
   "execution_count": null,
   "metadata": {},
   "outputs": [],
   "source": [
    "# Run the following cell to check whether you correctly defined your Turtle class and set its category to reptile."
   ]
  },
  {
   "cell_type": "code",
   "execution_count": null,
   "metadata": {},
   "outputs": [],
   "source": [
    "print(Turtle.category)"
   ]
  },
  {
   "cell_type": "code",
   "execution_count": null,
   "metadata": {},
   "outputs": [],
   "source": [
    "# Was the output of the above cell reptile? \n",
    "# If not, go back and edit your Turtle class making sure that it inherits \n",
    "# from the Animal class and its category is properly set to reptile. Be sure to re-run that \n",
    "# cell once you've finished your edits. Did you get it? If so, great!\n",
    "\n",
    "# Next, let’s practice composition a little bit. \n",
    "# This one will require a second type of Animal that is in the same category as the first. \n",
    "# For example, since you already created a Turtle class, go ahead and create a Snake class. \n",
    "# Don’t forget that it also inherits from the Animal class and that its category should be set to reptile."
   ]
  },
  {
   "cell_type": "code",
   "execution_count": null,
   "metadata": {},
   "outputs": [],
   "source": [
    "class Snake(Animal):\n",
    "    category = \"reptile\""
   ]
  },
  {
   "cell_type": "code",
   "execution_count": null,
   "metadata": {},
   "outputs": [],
   "source": [
    "# Now, let’s say we have a large variety of Animals (such as turtles and snakes) in a Zoo. \n",
    "# Below we have the Zoo class. We’re going to use it to organize our various Animals. Remember, \n",
    "# inheritance says a Turtle is an Animal, but a Zoo is not an Animal and an Animal is not a \n",
    "# Zoo -- though they are related to one another.\n",
    "\n",
    "# Fill in the blanks of the Zoo class below so that you can use zoo.add_animal( ) \n",
    "# to add instances of the Animal subclasses you created above. Once you’ve added them all,\n",
    "# you should be able to use zoo.total_of_category( ) to tell you exactly how many individual \n",
    "# Animal types the Zoo has for each category! Be sure to run the cell once you've finished your edits."
   ]
  },
  {
   "cell_type": "code",
   "execution_count": null,
   "metadata": {},
   "outputs": [],
   "source": [
    "class Zoo:\n",
    "    def __init__(self):\n",
    "        self.current_animals = {}\n",
    "    \n",
    "    def add_animal(self, animal):\n",
    "        self.current_animals[animal.name] = animal.category\n",
    "    \n",
    "    def total_of_category(self, category):\n",
    "        result = 0\n",
    "        for animal in self.current_animals.values():\n",
    "            if animal == category:\n",
    "                result += 1\n",
    "        return result\n",
    "\n",
    "zoo = Zoo()"
   ]
  },
  {
   "cell_type": "markdown",
   "metadata": {},
   "source": [
    "Run the following cell to check whether you properly filled in the blanks of your Zoo class."
   ]
  },
  {
   "cell_type": "code",
   "execution_count": null,
   "metadata": {},
   "outputs": [],
   "source": [
    "turtle = Turtle(\"Turtle\") #create an instance of the Turtle class\n",
    "snake = Snake(\"Snake\") #create an instance of the Snake class\n",
    "\n",
    "zoo.add_animal(turtle)\n",
    "zoo.add_animal(snake)\n",
    "\n",
    "print(zoo.total_of_category(\"reptile\")) #how many zoo animal types in the reptile category"
   ]
  },
  {
   "cell_type": "markdown",
   "metadata": {},
   "source": [
    "Was the output of the above cell 2? If not, go back and edit the Zoo class making sure to fill in the blanks with the appropriate attributes. Be sure to re-run that cell once you've finished your edits. Did you get it? If so, perfect! You have successfully defined your Turtle and Snake subclasses as well as your Zoo class.\n",
    "\n",
    "Do you see how this could be useful in a wide variety of circumstances?\n",
    "\n",
    "Okay, one last bit of practice before we move on. Let’s take another quick peek at modules. There are lots of useful modules for Python. Many of them are in the standard library. However, some modules are not loaded by default. So, before we can use any of the built-in methods of a module that is not in the standard library, the module must first be imported. Let’s review this by importing the calendar module.\n",
    "\n",
    "Run the following cell that imports the calendar module."
   ]
  },
  {
   "cell_type": "code",
   "execution_count": null,
   "metadata": {},
   "outputs": [],
   "source": [
    "import calendar"
   ]
  },
  {
   "cell_type": "markdown",
   "metadata": {},
   "source": [
    "One built-in method of the calendar module is the weekday( ) method. The weekday( ) method returns the day of the week (0 is Monday) for a given year, month, and day passed into the function. The syntax is weekday(year, month, day) where the input parameters are all of number type. By importing the calendar module, the weekday( ) method becomes available for us to use.\n",
    "\n",
    "In the following cell, fill in the blanks of the weekday( ) method with date arguments to return the day of the week for that date."
   ]
  },
  {
   "cell_type": "code",
   "execution_count": null,
   "metadata": {},
   "outputs": [],
   "source": [
    "calendar.weekday(2020,7,23)"
   ]
  },
  {
   "cell_type": "markdown",
   "metadata": {},
   "source": [
    "Did you get an integer representing the day of the week (0 is Monday) for the date arguments passed into the function? If not, go back and edit your input parameters. Once you output an integer representing the day of the week for the date arguments passed into weekday( ), you are all done with this notebook. Great work!"
   ]
  }
 ],
 "metadata": {
  "interpreter": {
   "hash": "cf97baa4dd5f92678966ef7d807ed10c287594f59ad652e48d0e32acad9661ad"
  },
  "kernelspec": {
   "display_name": "Python 3.7.1 64-bit",
   "language": "python",
   "name": "python3"
  },
  "language_info": {
   "name": "python",
   "version": "3.7.1"
  },
  "orig_nbformat": 4
 },
 "nbformat": 4,
 "nbformat_minor": 2
}
